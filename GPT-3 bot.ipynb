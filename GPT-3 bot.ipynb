{
 "cells": [
  {
   "cell_type": "code",
   "execution_count": null,
   "id": "a7c7f27e",
   "metadata": {},
   "outputs": [],
   "source": [
    "import os\n",
    "import openai # pip install openai\n",
    "import telebot # pip install pyTelegramBotAPI\n",
    "import pandas as pd\n",
    "import csv\n",
    "from datetime import datetime\n",
    "\n",
    "openai.api_key = '' # https://platform.openai.com/account/api-keys\n",
    "bot = telebot.TeleBot(\"\") # BotFathers\n",
    "        \n",
    "@bot.message_handler(func=lambda _: True)\n",
    "def handle_message(message):\n",
    "    \n",
    "    user_name = message.from_user.first_name \n",
    "    user_id = message.from_user.id\n",
    "    username = message.from_user.username\n",
    "    \n",
    "    with open('telegram-data.csv', 'a', newline='', encoding='utf-8') as file:  \n",
    "        writer = csv.writer(file, delimiter=',')\n",
    "    \n",
    "        bot.send_message(chat_id=message.from_user.id, text='Жди, сейчас ответ тебе готовлю')\n",
    "        response = openai.Completion.create(\n",
    "            model=\"text-davinci-003\",\n",
    "            prompt=message.text,\n",
    "            temperature=0.5,\n",
    "            max_tokens=1000,\n",
    "            top_p=1.0,\n",
    "            frequency_penalty=0.5,\n",
    "            presence_penalty=0.0,\n",
    "        )\n",
    "    \n",
    "        writer.writerow((username, user_name, user_id,datetime.now().strftime('%Y-%m-%d %H:%M:%S'),  message.text, response['choices'][0]['text']))\n",
    "        bot.send_message(chat_id=message.from_user.id, text=response['choices'][0]['text'])\n",
    "\n",
    "bot.polling()\n"
   ]
  }
 ],
 "metadata": {
  "kernelspec": {
   "display_name": "Python 3 (ipykernel)",
   "language": "python",
   "name": "python3"
  },
  "language_info": {
   "codemirror_mode": {
    "name": "ipython",
    "version": 3
   },
   "file_extension": ".py",
   "mimetype": "text/x-python",
   "name": "python",
   "nbconvert_exporter": "python",
   "pygments_lexer": "ipython3",
   "version": "3.8.13"
  }
 },
 "nbformat": 4,
 "nbformat_minor": 5
}
